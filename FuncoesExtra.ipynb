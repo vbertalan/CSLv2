{
 "cells": [
  {
   "cell_type": "code",
   "execution_count": 1,
   "id": "e0bf3668",
   "metadata": {},
   "outputs": [],
   "source": [
    "# Lista de templates a remover\n",
    "lista_a_remover = [\"tput no value for term and no t specified\",\n",
    "                    \"find no such file or directory\",\n",
    "                    \"mv cannot stat no such file or directory\",\n",
    "                    \"sed can t read temp no such file or directory\",\n",
    "                    \"compile failed using\"\n",
    "                ]\n",
    "\n",
    "# Arquivo de entrada e saída\n",
    "arquivo_entrada = \"templates_filtrados.log\"\n",
    "arquivo_saida = \"templates_filtrados_v2.log\"\n",
    "\n",
    "with open(arquivo_entrada, 'r', encoding='utf-8') as f_in, open(arquivo_saida, 'w', encoding='utf-8') as f_out:\n",
    "    for linha in f_in:\n",
    "        # Divide a linha por vírgulas e remove espaços extras\n",
    "        partes = [p.strip() for p in linha.strip().split(',')]\n",
    "\n",
    "        # Filtra os templates que não estão na lista a remover\n",
    "        partes_filtradas = [p for p in partes if p not in lista_a_remover]\n",
    "\n",
    "        # Escreve no novo arquivo\n",
    "        nova_linha = ', '.join(partes_filtradas)\n",
    "        f_out.write(nova_linha + '\\n')\n"
   ]
  },
  {
   "cell_type": "code",
   "execution_count": 2,
   "id": "fffbee18",
   "metadata": {},
   "outputs": [],
   "source": [
    "# Arquivo de entrada e saída\n",
    "arquivo_entrada = \"templates_filtrados_v2.log\"\n",
    "arquivo_saida = \"templates_filtrados_v3.log\"\n",
    "\n",
    "with open(arquivo_entrada, 'r', encoding='utf-8') as f_in, open(arquivo_saida, 'w', encoding='utf-8') as f_out:\n",
    "    for linha in f_in:\n",
    "        # Divide por vírgulas e remove espaços em branco\n",
    "        partes = [p.strip() for p in linha.strip().split(',') if p.strip() != '']\n",
    "\n",
    "        # Escreve apenas se houver mais de um template\n",
    "        if len(partes) > 1:\n",
    "            f_out.write(linha)\n"
   ]
  }
 ],
 "metadata": {
  "kernelspec": {
   "display_name": "base",
   "language": "python",
   "name": "python3"
  },
  "language_info": {
   "codemirror_mode": {
    "name": "ipython",
    "version": 3
   },
   "file_extension": ".py",
   "mimetype": "text/x-python",
   "name": "python",
   "nbconvert_exporter": "python",
   "pygments_lexer": "ipython3",
   "version": "3.9.19"
  }
 },
 "nbformat": 4,
 "nbformat_minor": 5
}
