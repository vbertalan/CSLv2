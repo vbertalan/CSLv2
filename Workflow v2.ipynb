{
 "cells": [
  {
   "cell_type": "code",
   "execution_count": null,
   "metadata": {},
   "outputs": [],
   "source": [
    "## Step 0 - Importing libraries and paths\n",
    "\n",
    "import DrainMethod\n",
    "import sys\n",
    "import os\n",
    "\n",
    "## General parameters \n",
    "\n",
    "input_dir = os.path.join(os.getcwd(), \"logs\") # The input directory of raw logs\n",
    "output_dir = os.path.join(os.getcwd(), \"parsings\")  # The output directory of parsing results\n",
    "vector_dir = os.path.join(os.getcwd(), \"embeddings\")  # The vector directory of converted logs\n",
    "\n",
    "#logName = 'ciena-mini.txt' \n",
    "logName = 'log-lines.txt' # Name of file to be parsed\n",
    "\n",
    "log_format = '<Content>' # Format of the file, if there are different fields\n",
    "regex = [] # Regex strings for Drain execution"
   ]
  },
  {
   "cell_type": "code",
   "execution_count": 3,
   "metadata": {},
   "outputs": [
    {
     "name": "stdout",
     "output_type": "stream",
     "text": [
      "\n",
      "=== Starting Drain Parsing ===\n",
      "/home/vbertalan/Downloads/Projetos/CSL/CSL/logs/\n",
      "Parsing file: /home/vbertalan/Downloads/Projetos/CSL/CSL/logs/log-lines.txt\n"
     ]
    },
    {
     "name": "stderr",
     "output_type": "stream",
     "text": [
      "Parsing Progress: 100%|██████████| 15710/15710 [00:00<00:00, 27224.94it/s]\n"
     ]
    }
   ],
   "source": [
    "## Step 1 - Parsing using Drain\n",
    "\n",
    "from pathlib import Path\n",
    "import pickle\n",
    "\n",
    "## Drain parameters\n",
    "st = 0.5 # Drain similarity threshold\n",
    "depth = 5 # Max depth of the parsing tree\n",
    "\n",
    "## Parses file, using DrainMethod\n",
    "print('\\n=== Starting Drain Parsing ===')\n",
    "indir = os.path.join(input_dir, os.path.dirname(logName))\n",
    "print(indir)\n",
    "log_file = os.path.basename(logName)\n",
    "\n",
    "parser = DrainMethod.LogParser(log_format=log_format, indir=indir, outdir=output_dir, rex=regex, depth=depth, st=st)\n",
    "drain_results = parser.parse(log_file)"
   ]
  },
  {
   "cell_type": "code",
   "execution_count": 4,
   "metadata": {},
   "outputs": [],
   "source": [
    "## Step 2 - Slicing dataset\n",
    "\n",
    "import pandas as pd\n",
    "\n",
    "bin = 60\n",
    "dataset_size = len(drain_results)\n",
    "bin_number = int(dataset_size/bin)\n",
    "\n",
    "# Gets the unique template values\n",
    "## Talvez trocar para EventId?\n",
    "template_values = drain_results['EventTemplate'].unique()"
   ]
  },
  {
   "cell_type": "code",
   "execution_count": 5,
   "metadata": {},
   "outputs": [
    {
     "name": "stdout",
     "output_type": "stream",
     "text": [
      "CPU times: user 1.81 s, sys: 1.72 ms, total: 1.81 s\n",
      "Wall time: 1.81 s\n"
     ]
    }
   ],
   "source": [
    "%%time\n",
    "\n",
    "## Step 3 - Creating matrix\n",
    "\n",
    "import pandas as pd\n",
    "\n",
    "# Creating the DataFrame with zeros\n",
    "result_df = pd.DataFrame(0, index=range(len(template_values)), columns=range(1, bin_number + 1))\n",
    "\n",
    "# Inserting the 'Template' column\n",
    "result_df.insert(loc=0, column='Template', value=template_values)\n",
    "\n",
    "# Initializing column index\n",
    "col = 0\n",
    "\n",
    "# Iterating over drain_results\n",
    "for i, event_template in enumerate(drain_results['EventTemplate']):\n",
    "    # Finding the right column\n",
    "    if i % bin == 0 and col < bin_number:\n",
    "        col += 1\n",
    "\n",
    "    # Finding the right row\n",
    "    row = result_df.index[result_df['Template'] == event_template][0]\n",
    "    \n",
    "    # Updating the cell\n",
    "    result_df.at[row, col] += 1"
   ]
  },
  {
   "cell_type": "code",
   "execution_count": 5,
   "metadata": {},
   "outputs": [
    {
     "name": "stdout",
     "output_type": "stream",
     "text": [
      "                                              Template   1   2   3   4   5  \\\n",
      "0            jq: error (at <*> null (null) has no keys   4   0   0   0   0   \n",
      "1                   <*> line <*> <*> command not found   1   0   0   0   0   \n",
      "2        cp: cannot stat <*> No such file or directory  50  60  60  60  60   \n",
      "3              /bin/bash: cleartool: command not found   1   0   0   0   0   \n",
      "4        sed: can't read <*> No such file or directory   1   0   0   0   0   \n",
      "..                                                 ...  ..  ..  ..  ..  ..   \n",
      "137  NOTE: recipe ofm1t2-32-gitrAUTOINC+9589a088de_...   0   0   0   0   0   \n",
      "138  [ERROR] Failed to execute goal org.apache.mave...   0   0   0   0   0   \n",
      "139                        : no newline at end of file   0   0   0   0   0   \n",
      "140  rm: cannot remove ‘cache/pots-pts/u-boot-a9’: ...   0   0   0   0   0   \n",
      "141  CC apps/osrpcp/protocols/PNNI/routing/comm/usr...   0   0   0   0   0   \n",
      "\n",
      "      6   7   8   9  ...  252  253  254  255  256  257  258  259  260  261  \n",
      "0     0   0   1   2  ...    0    0    0    0    0    0    0    0    0    1  \n",
      "1     0   0   0   0  ...    0    0    0    0    0    0    0    0    0    0  \n",
      "2    60  60  55  52  ...    1    1    0    1    0    1    1    0    1   11  \n",
      "3     0   0   0   0  ...    0    0    0    0    0    0    0    0    0    0  \n",
      "4     0   0   0   0  ...    0    0    0    0    0    0    0    0    0    0  \n",
      "..   ..  ..  ..  ..  ...  ...  ...  ...  ...  ...  ...  ...  ...  ...  ...  \n",
      "137   0   0   0   0  ...    0    0    0    0    0    0    0    0    0    0  \n",
      "138   0   0   0   0  ...    0    0    0    0    0    0    0    0    0    0  \n",
      "139   0   0   0   0  ...    0    0    0    0    0    0    0    0    0    0  \n",
      "140   0   0   0   0  ...    0    0    0    0    0    0    0    0    0    0  \n",
      "141   0   0   0   0  ...    0    0    0    0    0    0    0    0    0    0  \n",
      "\n",
      "[142 rows x 262 columns]\n"
     ]
    }
   ],
   "source": [
    "## Step 4 (optional) - Prints dataframe to external CSV \n",
    "\n",
    "# Print to CSV\n",
    "print(result_df)\n",
    "result_df.to_csv('out-bins.csv', index=False, sep='¡')"
   ]
  },
  {
   "cell_type": "code",
   "execution_count": 6,
   "metadata": {},
   "outputs": [
    {
     "name": "stdout",
     "output_type": "stream",
     "text": [
      "Requirement already satisfied: matplotlib in /home/vbertalan/anaconda3/lib/python3.9/site-packages (3.9.2)\n",
      "Requirement already satisfied: contourpy>=1.0.1 in /home/vbertalan/anaconda3/lib/python3.9/site-packages (from matplotlib) (1.2.0)\n",
      "Requirement already satisfied: cycler>=0.10 in /home/vbertalan/anaconda3/lib/python3.9/site-packages (from matplotlib) (0.11.0)\n",
      "Requirement already satisfied: fonttools>=4.22.0 in /home/vbertalan/anaconda3/lib/python3.9/site-packages (from matplotlib) (4.51.0)\n",
      "Requirement already satisfied: kiwisolver>=1.3.1 in /home/vbertalan/anaconda3/lib/python3.9/site-packages (from matplotlib) (1.4.4)\n",
      "Requirement already satisfied: numpy>=1.23 in /home/vbertalan/anaconda3/lib/python3.9/site-packages (from matplotlib) (1.26.4)\n",
      "Requirement already satisfied: packaging>=20.0 in /home/vbertalan/anaconda3/lib/python3.9/site-packages (from matplotlib) (24.1)\n",
      "Requirement already satisfied: pillow>=8 in /home/vbertalan/anaconda3/lib/python3.9/site-packages (from matplotlib) (10.4.0)\n",
      "Requirement already satisfied: pyparsing>=2.3.1 in /home/vbertalan/anaconda3/lib/python3.9/site-packages (from matplotlib) (3.1.2)\n",
      "Requirement already satisfied: python-dateutil>=2.7 in /home/vbertalan/anaconda3/lib/python3.9/site-packages (from matplotlib) (2.9.0.post0)\n",
      "Requirement already satisfied: importlib-resources>=3.2.0 in /home/vbertalan/anaconda3/lib/python3.9/site-packages (from matplotlib) (6.4.0)\n",
      "Requirement already satisfied: zipp>=3.1.0 in /home/vbertalan/anaconda3/lib/python3.9/site-packages (from importlib-resources>=3.2.0->matplotlib) (3.17.0)\n",
      "Requirement already satisfied: six>=1.5 in /home/vbertalan/anaconda3/lib/python3.9/site-packages (from python-dateutil>=2.7->matplotlib) (1.16.0)\n"
     ]
    },
    {
     "data": {
      "application/vnd.jupyter.widget-view+json": {
       "model_id": "db9ea44a0f8a4586a4b59dc5c96b87f9",
       "version_major": 2,
       "version_minor": 0
      },
      "text/plain": [
       "  0%|          | 0/5 [00:00<?, ?it/s]"
      ]
     },
     "metadata": {},
     "output_type": "display_data"
    },
    {
     "name": "stdout",
     "output_type": "stream",
     "text": [
      "21\n"
     ]
    },
    {
     "data": {
      "application/vnd.jupyter.widget-view+json": {
       "model_id": "acf682ca6ff8447fa6b136733473caf7",
       "version_major": 2,
       "version_minor": 0
      },
      "text/plain": [
       "  0%|          | 0/5 [00:00<?, ?it/s]"
      ]
     },
     "metadata": {},
     "output_type": "display_data"
    },
    {
     "name": "stdout",
     "output_type": "stream",
     "text": [
      "33\n"
     ]
    },
    {
     "data": {
      "image/png": "[encoded data removed]",
      "text/plain": [
       "<Figure size 640x480 with 1 Axes>"
      ]
     },
     "metadata": {},
     "output_type": "display_data"
    },
    {
     "name": "stdout",
     "output_type": "stream",
     "text": [
      "CPU times: user 3min 4s, sys: 324 ms, total: 3min 4s\n",
      "Wall time: 3min 6s\n"
     ]
    }
   ],
   "source": [
    "%%time\n",
    "\n",
    "## Step 5 - Using PGMPY to calculate causality\n",
    "\n",
    "# Use the PC algorithm to infer the causal structure\n",
    "\n",
    "!pip install matplotlib\n",
    "\n",
    "from pgmpy.estimators import PC\n",
    "from pgmpy.independencies import Independencies\n",
    "\n",
    "df_causality = result_df.drop(['Template'], axis=1)\n",
    "df_causality.insert(0, 'Template', range(0,len(template_values)))\n",
    "df_causality = df_causality.T\n",
    "\n",
    "est = PC(df_causality)\n",
    "model_chi = est.estimate(ci_test='chi_square')\n",
    "print(len(model_chi.edges()))\n",
    "model_gsq, _ = est.estimate(ci_test='g_sq', return_type='skeleton')\n",
    "print(len(model_gsq.edges()))\n",
    "\n",
    "# Visualize the resulting causal graph\n",
    "import networkx as nx\n",
    "import matplotlib.pyplot as plt\n",
    "\n",
    "nx_graph = nx.DiGraph(model_chi.edges())\n",
    "nx.draw(nx_graph, with_labels=True)\n",
    "plt.title(\"Causal Graph using PC Algorithm\")\n",
    "plt.show()"
   ]
  }
 ],
 "metadata": {
  "kernelspec": {
   "display_name": "base",
   "language": "python",
   "name": "python3"
  },
  "language_info": {
   "codemirror_mode": {
    "name": "ipython",
    "version": 3
   },
   "file_extension": ".py",
   "mimetype": "text/x-python",
   "name": "python",
   "nbconvert_exporter": "python",
   "pygments_lexer": "ipython3",
   "version": "3.9.19"
  }
 },
 "nbformat": 4,
 "nbformat_minor": 2
}
